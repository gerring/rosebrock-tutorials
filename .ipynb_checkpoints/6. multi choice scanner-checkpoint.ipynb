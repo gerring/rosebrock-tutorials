{
 "cells": [
  {
   "cell_type": "code",
   "execution_count": 7,
   "metadata": {},
   "outputs": [],
   "source": [
    "# https://www.pyimagesearch.com/2016/10/03/bubble-sheet-multiple-choice-scanner-and-test-grader-using-omr-python-and-opencv/\n",
    "# import the necessary packages\n",
    "from imutils.perspective import four_point_transform\n",
    "from imutils import contours\n",
    "import numpy as np\n",
    "import argparse\n",
    "import imutils\n",
    "import cv2\n",
    "\n",
    "import plotly.express as px\n",
    "def show(image):\n",
    "    fig = px.imshow(cv2.cvtColor(image, cv2.COLOR_BGR2RGB))\n",
    "    fig.show()\n",
    "    \n",
    "# define the answer key which maps the question number\n",
    "# to the correct answer\n",
    "ANSWER_KEY = {0:1, 1:4, 2:0, 3:3, 4:1}\n",
    "# Q1:B, Q2:E, Q3:A, Q4:D, Q5:B\n",
    "\n",
    "def mark(path):\n",
    "    '''\n",
    "    Step #1: Detect the exam in an image.\n",
    "    Step #2: Apply a perspective transform to extract the top-down, birds-eye-view of the exam.\n",
    "    Step #3: Extract the set of bubbles (i.e., the possible answer choices) from the perspective transformed exam.\n",
    "    Step #4: Sort the questions/bubbles into rows.\n",
    "    Step #5: Determine the marked (i.e., “bubbled in”) answer for each row.\n",
    "    Step #6: Lookup the correct answer in our answer key to determine if the user was correct in their choice.\n",
    "    Step #7: Repeat for all questions in the exam.\n",
    "    '''\n",
    "    image = cv2.imread(path)\n",
    "    gray = cv2.cvtColor(image, cv2.COLOR_BGR2GRAY)\n",
    "    blurred = cv2.GaussianBlur(gray, (5, 5), 0)\n",
    "    edged = cv2.Canny(blurred, 75, 200)\n",
    "    \n",
    "    # 2//\n",
    "    # find contours in the edge map, then initialize\n",
    "    # the contour that corresponds to the document\n",
    "    cnts = cv2.findContours(edged.copy(), cv2.RETR_EXTERNAL,\n",
    "        cv2.CHAIN_APPROX_SIMPLE)\n",
    "    cnts = imutils.grab_contours(cnts)\n",
    "    docCnt = None\n",
    "    # ensure that at least one contour was found\n",
    "    if len(cnts) > 0:\n",
    "        \n",
    "        # sort the contours according to their size in\n",
    "        # descending order\n",
    "        cnts = sorted(cnts, key=cv2.contourArea, reverse=True)\n",
    "        # loop over the sorted contours\n",
    "        for c in cnts:\n",
    "            # approximate the contour\n",
    "            peri = cv2.arcLength(c, True)\n",
    "            approx = cv2.approxPolyDP(c, 0.02 * peri, True)\n",
    "            # if our approximated contour has four points,\n",
    "            # then we can assume we have found the paper\n",
    "            if len(approx) == 4:\n",
    "                docCnt = approx\n",
    "                break\n",
    "                \n",
    "    # apply a four point perspective transform to both the\n",
    "    # original image and grayscale image to obtain a top-down\n",
    "    # birds eye view of the paper\n",
    "    paper = four_point_transform(image, docCnt.reshape(4, 2))\n",
    "    warped = four_point_transform(gray, docCnt.reshape(4, 2))\n",
    "    \n",
    "    # 3 //\n",
    "    # apply Otsu's thresholding method to binarize the warped\n",
    "    # piece of paper\n",
    "    thresh = cv2.threshold(warped, 0, 255,\n",
    "        cv2.THRESH_BINARY_INV | cv2.THRESH_OTSU)[1]\n",
    "    \n",
    "    # find contours in the thresholded image, then initialize\n",
    "    # the list of contours that correspond to questions\n",
    "    cnts = cv2.findContours(thresh.copy(), cv2.RETR_EXTERNAL,\n",
    "        cv2.CHAIN_APPROX_SIMPLE)\n",
    "    cnts = imutils.grab_contours(cnts)\n",
    "    questionCnts = []\n",
    "    \n",
    "    # loop over the contours\n",
    "    for c in cnts:\n",
    "        # compute the bounding box of the contour, then use the\n",
    "        # bounding box to derive the aspect ratio\n",
    "        (x, y, w, h) = cv2.boundingRect(c)\n",
    "        ar = w / float(h)\n",
    "        # in order to label the contour as a question, region\n",
    "        # should be sufficiently wide, sufficiently tall, and\n",
    "        # have an aspect ratio approximately equal to 1\n",
    "        if w >= 20 and h >= 20 and ar >= 0.9 and ar <= 1.1:\n",
    "            questionCnts.append(c)\n",
    "    \n",
    "    # 4 //\n",
    "    # sort the question contours top-to-bottom, then initialize\n",
    "    # the total number of correct answers\n",
    "    questionCnts = contours.sort_contours(questionCnts,\n",
    "        method=\"top-to-bottom\")[0]\n",
    "    correct = 0\n",
    "    \n",
    "    # each question has 5 possible answers, to loop over the\n",
    "    # question in batches of 5\n",
    "    for (q, i) in enumerate(np.arange(0, len(questionCnts), 5)):\n",
    "        \n",
    "        # sort the contours for the current question from\n",
    "        # left to right, then initialize the index of the\n",
    "        # bubbled answer\n",
    "        cnts = contours.sort_contours(questionCnts[i:i + 5])[0]\n",
    "        bubbled = None\n",
    "    \n",
    "        # 5 //\n",
    "        # loop over the sorted contours\n",
    "        for (j, c) in enumerate(cnts):\n",
    "            # construct a mask that reveals only the current\n",
    "            # \"bubble\" for the question\n",
    "            mask = np.zeros(thresh.shape, dtype=\"uint8\")\n",
    "            cv2.drawContours(mask, [c], -1, 255, -1)\n",
    "            # apply the mask to the thresholded image, then\n",
    "            # count the number of non-zero pixels in the\n",
    "            # bubble area\n",
    "            mask = cv2.bitwise_and(thresh, thresh, mask=mask)\n",
    "            total = cv2.countNonZero(mask)\n",
    "            # if the current total has a larger number of total\n",
    "            # non-zero pixels, then we are examining the currently\n",
    "            # bubbled-in answer\n",
    "            if bubbled is None or total > bubbled[0]:\n",
    "                bubbled = (total, j)\n",
    "    \n",
    "        # 6 //\n",
    "        # initialize the contour color and the index of the\n",
    "        # *correct* answer\n",
    "        color = (0, 0, 255)\n",
    "        k = ANSWER_KEY[q]\n",
    "        # check to see if the bubbled answer is correct\n",
    "        if k == bubbled[1]:\n",
    "            color = (0, 255, 0)\n",
    "            correct += 1\n",
    "            \n",
    "        # draw the outline of the correct answer on the test\n",
    "        cv2.drawContours(paper, [cnts[k]], -1, color, 3)\n",
    "        \n",
    "    score = (correct / 5.0) * 100\n",
    "    return score"
   ]
  },
  {
   "cell_type": "code",
   "execution_count": 8,
   "metadata": {},
   "outputs": [
    {
     "name": "stdout",
     "output_type": "stream",
     "text": [
      "80.0\n"
     ]
    }
   ],
   "source": [
    "    \n",
    "score = mark(\"optical-mark-recognition/images/test_01.png\")\n",
    "print(score)"
   ]
  },
  {
   "cell_type": "code",
   "execution_count": 9,
   "metadata": {},
   "outputs": [
    {
     "name": "stdout",
     "output_type": "stream",
     "text": [
      "20.0\n"
     ]
    }
   ],
   "source": [
    "    \n",
    "score = mark(\"optical-mark-recognition/images/test_02.png\")\n",
    "print(score)"
   ]
  },
  {
   "cell_type": "code",
   "execution_count": 10,
   "metadata": {},
   "outputs": [
    {
     "name": "stdout",
     "output_type": "stream",
     "text": [
      "60.0\n"
     ]
    }
   ],
   "source": [
    "    \n",
    "score = mark(\"optical-mark-recognition/images/test_03.png\")\n",
    "print(score)"
   ]
  },
  {
   "cell_type": "code",
   "execution_count": null,
   "metadata": {},
   "outputs": [],
   "source": []
  }
 ],
 "metadata": {
  "kernelspec": {
   "display_name": "Python 3",
   "language": "python",
   "name": "python3"
  },
  "language_info": {
   "codemirror_mode": {
    "name": "ipython",
    "version": 3
   },
   "file_extension": ".py",
   "mimetype": "text/x-python",
   "name": "python",
   "nbconvert_exporter": "python",
   "pygments_lexer": "ipython3",
   "version": "3.7.6"
  }
 },
 "nbformat": 4,
 "nbformat_minor": 4
}
